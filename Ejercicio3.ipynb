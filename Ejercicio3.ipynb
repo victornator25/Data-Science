{
  "nbformat": 4,
  "nbformat_minor": 0,
  "metadata": {
    "colab": {
      "provenance": [],
      "authorship_tag": "ABX9TyPFdkuYNNKtAL7hFphh3brU",
      "include_colab_link": true
    },
    "kernelspec": {
      "name": "python3",
      "display_name": "Python 3"
    },
    "language_info": {
      "name": "python"
    }
  },
  "cells": [
    {
      "cell_type": "markdown",
      "metadata": {
        "id": "view-in-github",
        "colab_type": "text"
      },
      "source": [
        "<a href=\"https://colab.research.google.com/github/victornator25/Data-Science/blob/main/Ejercicio3.ipynb\" target=\"_parent\"><img src=\"https://colab.research.google.com/assets/colab-badge.svg\" alt=\"Open In Colab\"/></a>"
      ]
    },
    {
      "cell_type": "code",
      "execution_count": 5,
      "metadata": {
        "id": "s156e54p5x2X"
      },
      "outputs": [],
      "source": [
        "import numpy as np\n",
        "\n",
        "A=np.arange(1,65).reshape(8,8)\n",
        "B=np.arange(0.40, 0.80, 0.01).reshape(8,5)\n"
      ]
    },
    {
      "cell_type": "code",
      "source": [
        "A"
      ],
      "metadata": {
        "colab": {
          "base_uri": "https://localhost:8080/"
        },
        "id": "Wh3UZDTr9bne",
        "outputId": "1fb1a742-45c7-4ae7-ff09-c38bd1ad0f03"
      },
      "execution_count": 6,
      "outputs": [
        {
          "output_type": "execute_result",
          "data": {
            "text/plain": [
              "array([[ 1,  2,  3,  4,  5,  6,  7,  8],\n",
              "       [ 9, 10, 11, 12, 13, 14, 15, 16],\n",
              "       [17, 18, 19, 20, 21, 22, 23, 24],\n",
              "       [25, 26, 27, 28, 29, 30, 31, 32],\n",
              "       [33, 34, 35, 36, 37, 38, 39, 40],\n",
              "       [41, 42, 43, 44, 45, 46, 47, 48],\n",
              "       [49, 50, 51, 52, 53, 54, 55, 56],\n",
              "       [57, 58, 59, 60, 61, 62, 63, 64]])"
            ]
          },
          "metadata": {},
          "execution_count": 6
        }
      ]
    },
    {
      "cell_type": "code",
      "source": [
        "B"
      ],
      "metadata": {
        "colab": {
          "base_uri": "https://localhost:8080/"
        },
        "id": "7g1f6aX29bQg",
        "outputId": "ea1a9dc5-42d4-41fe-c8c5-8f00975c6c38"
      },
      "execution_count": 7,
      "outputs": [
        {
          "output_type": "execute_result",
          "data": {
            "text/plain": [
              "array([[0.4 , 0.41, 0.42, 0.43, 0.44],\n",
              "       [0.45, 0.46, 0.47, 0.48, 0.49],\n",
              "       [0.5 , 0.51, 0.52, 0.53, 0.54],\n",
              "       [0.55, 0.56, 0.57, 0.58, 0.59],\n",
              "       [0.6 , 0.61, 0.62, 0.63, 0.64],\n",
              "       [0.65, 0.66, 0.67, 0.68, 0.69],\n",
              "       [0.7 , 0.71, 0.72, 0.73, 0.74],\n",
              "       [0.75, 0.76, 0.77, 0.78, 0.79]])"
            ]
          },
          "metadata": {},
          "execution_count": 7
        }
      ]
    },
    {
      "cell_type": "code",
      "source": [
        "#para unir las matrices \n",
        "AB=np.concatenate((A,B), axis = 1)\n",
        "AB.shape\n",
        "AB \n"
      ],
      "metadata": {
        "colab": {
          "base_uri": "https://localhost:8080/"
        },
        "id": "eUD0Yo2D9w6r",
        "outputId": "b4d5fe9a-063e-4a5b-d17d-0798be17241a"
      },
      "execution_count": 9,
      "outputs": [
        {
          "output_type": "execute_result",
          "data": {
            "text/plain": [
              "array([[ 1.  ,  2.  ,  3.  ,  4.  ,  5.  ,  6.  ,  7.  ,  8.  ,  0.4 ,\n",
              "         0.41,  0.42,  0.43,  0.44],\n",
              "       [ 9.  , 10.  , 11.  , 12.  , 13.  , 14.  , 15.  , 16.  ,  0.45,\n",
              "         0.46,  0.47,  0.48,  0.49],\n",
              "       [17.  , 18.  , 19.  , 20.  , 21.  , 22.  , 23.  , 24.  ,  0.5 ,\n",
              "         0.51,  0.52,  0.53,  0.54],\n",
              "       [25.  , 26.  , 27.  , 28.  , 29.  , 30.  , 31.  , 32.  ,  0.55,\n",
              "         0.56,  0.57,  0.58,  0.59],\n",
              "       [33.  , 34.  , 35.  , 36.  , 37.  , 38.  , 39.  , 40.  ,  0.6 ,\n",
              "         0.61,  0.62,  0.63,  0.64],\n",
              "       [41.  , 42.  , 43.  , 44.  , 45.  , 46.  , 47.  , 48.  ,  0.65,\n",
              "         0.66,  0.67,  0.68,  0.69],\n",
              "       [49.  , 50.  , 51.  , 52.  , 53.  , 54.  , 55.  , 56.  ,  0.7 ,\n",
              "         0.71,  0.72,  0.73,  0.74],\n",
              "       [57.  , 58.  , 59.  , 60.  , 61.  , 62.  , 63.  , 64.  ,  0.75,\n",
              "         0.76,  0.77,  0.78,  0.79]])"
            ]
          },
          "metadata": {},
          "execution_count": 9
        }
      ]
    },
    {
      "cell_type": "code",
      "source": [
        "#Unir con la media a una matriz\n",
        "C = np.append(AB,[np.mean(AB, axis=0)], axis= 0)\n",
        "C.shape\n",
        "C"
      ],
      "metadata": {
        "id": "VVUok3EHv5K7",
        "outputId": "1dcf56fb-0162-477c-bc85-635b0119dfbf",
        "colab": {
          "base_uri": "https://localhost:8080/"
        }
      },
      "execution_count": 11,
      "outputs": [
        {
          "output_type": "execute_result",
          "data": {
            "text/plain": [
              "array([[ 1.   ,  2.   ,  3.   ,  4.   ,  5.   ,  6.   ,  7.   ,  8.   ,\n",
              "         0.4  ,  0.41 ,  0.42 ,  0.43 ,  0.44 ],\n",
              "       [ 9.   , 10.   , 11.   , 12.   , 13.   , 14.   , 15.   , 16.   ,\n",
              "         0.45 ,  0.46 ,  0.47 ,  0.48 ,  0.49 ],\n",
              "       [17.   , 18.   , 19.   , 20.   , 21.   , 22.   , 23.   , 24.   ,\n",
              "         0.5  ,  0.51 ,  0.52 ,  0.53 ,  0.54 ],\n",
              "       [25.   , 26.   , 27.   , 28.   , 29.   , 30.   , 31.   , 32.   ,\n",
              "         0.55 ,  0.56 ,  0.57 ,  0.58 ,  0.59 ],\n",
              "       [33.   , 34.   , 35.   , 36.   , 37.   , 38.   , 39.   , 40.   ,\n",
              "         0.6  ,  0.61 ,  0.62 ,  0.63 ,  0.64 ],\n",
              "       [41.   , 42.   , 43.   , 44.   , 45.   , 46.   , 47.   , 48.   ,\n",
              "         0.65 ,  0.66 ,  0.67 ,  0.68 ,  0.69 ],\n",
              "       [49.   , 50.   , 51.   , 52.   , 53.   , 54.   , 55.   , 56.   ,\n",
              "         0.7  ,  0.71 ,  0.72 ,  0.73 ,  0.74 ],\n",
              "       [57.   , 58.   , 59.   , 60.   , 61.   , 62.   , 63.   , 64.   ,\n",
              "         0.75 ,  0.76 ,  0.77 ,  0.78 ,  0.79 ],\n",
              "       [29.   , 30.   , 31.   , 32.   , 33.   , 34.   , 35.   , 36.   ,\n",
              "         0.575,  0.585,  0.595,  0.605,  0.615]])"
            ]
          },
          "metadata": {},
          "execution_count": 11
        }
      ]
    },
    {
      "cell_type": "code",
      "source": [
        "# Parte 4. Agregar una columna al final con el valor maximo de cada fila\n",
        "D = np.max(C, axis=1)\n",
        "data = np.concatenate((C,D[:,None]), axis = 1)\n",
        "print(data.shape)\n",
        "\n",
        "\n",
        "# Parte 5. Guardar el archivo \n",
        "np.savetxt('datos.txt', data, delimiter=',', fmt='%.3f')"
      ],
      "metadata": {
        "id": "BWtw-_klz-wz",
        "outputId": "8b9f054f-4fc0-46fe-cbe1-e85fe58c846d",
        "colab": {
          "base_uri": "https://localhost:8080/"
        }
      },
      "execution_count": 13,
      "outputs": [
        {
          "output_type": "stream",
          "name": "stdout",
          "text": [
            "(9, 14)\n"
          ]
        }
      ]
    },
    {
      "cell_type": "code",
      "source": [
        "# Lectura de los datos\n",
        "data_read = np.loadtxt(\"datos.txt\", delimiter=\",\")\n",
        "data_read"
      ],
      "metadata": {
        "id": "CMtMgw8Q0Z22",
        "outputId": "4cfe364c-c839-42e5-e164-d1bd49e1fd23",
        "colab": {
          "base_uri": "https://localhost:8080/"
        }
      },
      "execution_count": 14,
      "outputs": [
        {
          "output_type": "execute_result",
          "data": {
            "text/plain": [
              "array([[ 1.   ,  2.   ,  3.   ,  4.   ,  5.   ,  6.   ,  7.   ,  8.   ,\n",
              "         0.4  ,  0.41 ,  0.42 ,  0.43 ,  0.44 ,  8.   ],\n",
              "       [ 9.   , 10.   , 11.   , 12.   , 13.   , 14.   , 15.   , 16.   ,\n",
              "         0.45 ,  0.46 ,  0.47 ,  0.48 ,  0.49 , 16.   ],\n",
              "       [17.   , 18.   , 19.   , 20.   , 21.   , 22.   , 23.   , 24.   ,\n",
              "         0.5  ,  0.51 ,  0.52 ,  0.53 ,  0.54 , 24.   ],\n",
              "       [25.   , 26.   , 27.   , 28.   , 29.   , 30.   , 31.   , 32.   ,\n",
              "         0.55 ,  0.56 ,  0.57 ,  0.58 ,  0.59 , 32.   ],\n",
              "       [33.   , 34.   , 35.   , 36.   , 37.   , 38.   , 39.   , 40.   ,\n",
              "         0.6  ,  0.61 ,  0.62 ,  0.63 ,  0.64 , 40.   ],\n",
              "       [41.   , 42.   , 43.   , 44.   , 45.   , 46.   , 47.   , 48.   ,\n",
              "         0.65 ,  0.66 ,  0.67 ,  0.68 ,  0.69 , 48.   ],\n",
              "       [49.   , 50.   , 51.   , 52.   , 53.   , 54.   , 55.   , 56.   ,\n",
              "         0.7  ,  0.71 ,  0.72 ,  0.73 ,  0.74 , 56.   ],\n",
              "       [57.   , 58.   , 59.   , 60.   , 61.   , 62.   , 63.   , 64.   ,\n",
              "         0.75 ,  0.76 ,  0.77 ,  0.78 ,  0.79 , 64.   ],\n",
              "       [29.   , 30.   , 31.   , 32.   , 33.   , 34.   , 35.   , 36.   ,\n",
              "         0.575,  0.585,  0.595,  0.605,  0.615, 36.   ]])"
            ]
          },
          "metadata": {},
          "execution_count": 14
        }
      ]
    }
  ]
}