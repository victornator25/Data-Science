{
  "nbformat": 4,
  "nbformat_minor": 0,
  "metadata": {
    "colab": {
      "provenance": [],
      "include_colab_link": true
    },
    "kernelspec": {
      "name": "python3",
      "display_name": "Python 3"
    },
    "language_info": {
      "name": "python"
    }
  },
  "cells": [
    {
      "cell_type": "markdown",
      "metadata": {
        "id": "view-in-github",
        "colab_type": "text"
      },
      "source": [
        "<a href=\"https://colab.research.google.com/github/victornator25/Data-Science/blob/main/Ejercicio1_Pandas.ipynb\" target=\"_parent\"><img src=\"https://colab.research.google.com/assets/colab-badge.svg\" alt=\"Open In Colab\"/></a>"
      ]
    },
    {
      "cell_type": "markdown",
      "source": [
        "# Ejercicio librería Pandas"
      ],
      "metadata": {
        "id": "UqeNXfAnX_3C"
      }
    },
    {
      "cell_type": "code",
      "execution_count": 1,
      "metadata": {
        "colab": {
          "base_uri": "https://localhost:8080/"
        },
        "id": "SsAK6aaGXJWz",
        "outputId": "6c9ae52b-37b2-4e64-8a6e-d81236730634"
      },
      "outputs": [
        {
          "output_type": "execute_result",
          "data": {
            "text/plain": [
              "a    10\n",
              "b    11\n",
              "c    12\n",
              "d    13\n",
              "e    14\n",
              "f    15\n",
              "g    16\n",
              "h    17\n",
              "i    18\n",
              "j    19\n",
              "k    20\n",
              "l    21\n",
              "m    22\n",
              "n    23\n",
              "o    24\n",
              "p    25\n",
              "q    26\n",
              "r    27\n",
              "s    28\n",
              "t    29\n",
              "u    30\n",
              "v    31\n",
              "w    32\n",
              "x    33\n",
              "y    34\n",
              "z    35\n",
              "dtype: int64"
            ]
          },
          "metadata": {},
          "execution_count": 1
        }
      ],
      "source": [
        "import pandas as pd \n",
        "\n",
        "letras =  [chr(i) for i in range(ord('a'),ord('z')+1)]\n",
        "numeros = range(10,36) #empezar en 10\n",
        "A = pd.Series(data=numeros, index=letras)\n",
        "A"
      ]
    },
    {
      "cell_type": "code",
      "source": [
        "A['a']"
      ],
      "metadata": {
        "colab": {
          "base_uri": "https://localhost:8080/"
        },
        "id": "PKSbrIJbYbLE",
        "outputId": "ade825f2-a924-4203-a93e-ad06b72dc014"
      },
      "execution_count": 2,
      "outputs": [
        {
          "output_type": "execute_result",
          "data": {
            "text/plain": [
              "10"
            ]
          },
          "metadata": {},
          "execution_count": 2
        }
      ]
    },
    {
      "cell_type": "code",
      "source": [
        "letras.sort(reverse=True) #reacomoda en orden empezando del ultimo elemento \"reversa\"\n",
        "B = pd.Series(data=letras, index = numeros)\n",
        "B"
      ],
      "metadata": {
        "colab": {
          "base_uri": "https://localhost:8080/"
        },
        "id": "d3nIU6yhY2KL",
        "outputId": "06d56d61-45e5-4c16-d809-6b4f0888051a"
      },
      "execution_count": 3,
      "outputs": [
        {
          "output_type": "execute_result",
          "data": {
            "text/plain": [
              "10    z\n",
              "11    y\n",
              "12    x\n",
              "13    w\n",
              "14    v\n",
              "15    u\n",
              "16    t\n",
              "17    s\n",
              "18    r\n",
              "19    q\n",
              "20    p\n",
              "21    o\n",
              "22    n\n",
              "23    m\n",
              "24    l\n",
              "25    k\n",
              "26    j\n",
              "27    i\n",
              "28    h\n",
              "29    g\n",
              "30    f\n",
              "31    e\n",
              "32    d\n",
              "33    c\n",
              "34    b\n",
              "35    a\n",
              "dtype: object"
            ]
          },
          "metadata": {},
          "execution_count": 3
        }
      ]
    },
    {
      "cell_type": "code",
      "source": [
        "A.loc['b':'i'] #acceder a slices de los datos"
      ],
      "metadata": {
        "colab": {
          "base_uri": "https://localhost:8080/"
        },
        "id": "z_tDwHI_Z-7Z",
        "outputId": "272bd6f4-98fb-4a94-aa6b-f92565df37a2"
      },
      "execution_count": 6,
      "outputs": [
        {
          "output_type": "execute_result",
          "data": {
            "text/plain": [
              "b    11\n",
              "c    12\n",
              "d    13\n",
              "e    14\n",
              "f    15\n",
              "g    16\n",
              "h    17\n",
              "i    18\n",
              "dtype: int64"
            ]
          },
          "metadata": {},
          "execution_count": 6
        }
      ]
    },
    {
      "cell_type": "code",
      "source": [
        "valores_rango = B[(B >= 'b') & (B <= 'i')]\n",
        "valores_rango"
      ],
      "metadata": {
        "colab": {
          "base_uri": "https://localhost:8080/"
        },
        "id": "4XsyoZvKoebB",
        "outputId": "f5df030a-e101-4736-9b59-926d9dd546e9"
      },
      "execution_count": 7,
      "outputs": [
        {
          "output_type": "execute_result",
          "data": {
            "text/plain": [
              "27    i\n",
              "28    h\n",
              "29    g\n",
              "30    f\n",
              "31    e\n",
              "32    d\n",
              "33    c\n",
              "34    b\n",
              "dtype: object"
            ]
          },
          "metadata": {},
          "execution_count": 7
        }
      ]
    }
  ]
}